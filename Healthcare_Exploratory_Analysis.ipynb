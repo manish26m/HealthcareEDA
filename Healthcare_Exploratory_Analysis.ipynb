{
 "cells": [
  {
   "cell_type": "markdown",
   "id": "8a0e6488",
   "metadata": {},
   "source": [
    "## Importing Libraries"
   ]
  },
  {
   "cell_type": "code",
   "execution_count": null,
   "id": "8b2e27a2",
   "metadata": {},
   "outputs": [],
   "source": [
    "\n",
    "import pandas as pd\n",
    "import numpy as np\n",
    "import matplotlib.pyplot as plt\n",
    "import seaborn as sns\n",
    "%matplotlib inline\n",
    "from scipy.stats import zscore\n"
   ]
  },
  {
   "cell_type": "markdown",
   "id": "da7e5611",
   "metadata": {},
   "source": [
    "## Data Loading"
   ]
  },
  {
   "cell_type": "code",
   "execution_count": null,
   "id": "972bf10b",
   "metadata": {},
   "outputs": [],
   "source": [
    "\n",
    "df = pd.read_csv(\"census_2011.csv\")\n",
    "df1 = pd.read_csv('hospitals.csv')\n",
    "df2 = pd.read_csv('government_hospitals.csv', skiprows=1)\n",
    "df3 = pd.read_csv('Employees State Insurance Corporation.csv', header=1, index_col=0)\n",
    "\n",
    "# Display first 10 rows of census data\n",
    "df.head(10)\n"
   ]
  },
  {
   "cell_type": "markdown",
   "id": "837b3ea2",
   "metadata": {},
   "source": [
    "## Columns of Census Data"
   ]
  },
  {
   "cell_type": "code",
   "execution_count": null,
   "id": "8783b061",
   "metadata": {},
   "outputs": [],
   "source": [
    "df.columns"
   ]
  },
  {
   "cell_type": "markdown",
   "id": "c4c7b784",
   "metadata": {},
   "source": [
    "## Summary Statistics of Census Data"
   ]
  },
  {
   "cell_type": "code",
   "execution_count": null,
   "id": "8b0590ed",
   "metadata": {},
   "outputs": [],
   "source": [
    "df.describe()"
   ]
  },
  {
   "cell_type": "markdown",
   "id": "c398d45e",
   "metadata": {},
   "source": [
    "## Handling Missing Values in Census Data"
   ]
  },
  {
   "cell_type": "code",
   "execution_count": null,
   "id": "e5bb4dea",
   "metadata": {},
   "outputs": [],
   "source": [
    "\n",
    "# Checking null values in each column\n",
    "df.isnull().sum()\n"
   ]
  },
  {
   "cell_type": "markdown",
   "id": "d00ca05a",
   "metadata": {},
   "source": [
    "## Heatmap of Null Values"
   ]
  },
  {
   "cell_type": "code",
   "execution_count": null,
   "id": "c9eabbe5",
   "metadata": {},
   "outputs": [],
   "source": [
    "\n",
    "cols_to_visualize = df.columns  # Adjust this as needed\n",
    "plt.figure(figsize=(20, 10))  # Adjust figure size\n",
    "sns.heatmap(df[cols_to_visualize].isnull(), yticklabels=False, cbar=False, cmap=\"viridis\")\n",
    "plt.show()\n"
   ]
  },
  {
   "cell_type": "markdown",
   "id": "950c4e54",
   "metadata": {},
   "source": [
    "## Removing Null Values and Checking with Graphs"
   ]
  },
  {
   "cell_type": "code",
   "execution_count": null,
   "id": "fbb18295",
   "metadata": {},
   "outputs": [],
   "source": [
    "\n",
    "def plot_missing_values(df4, title, before_imputation=True):\n",
    "    missing_values = df4.isnull().sum()\n",
    "    palette = 'inferno' if before_imputation else 'Greens'\n",
    "    plt.figure(figsize=(12, 8))\n",
    "    sns.barplot(x=missing_values.index, y=missing_values.values, palette=palette)\n",
    "    plt.xticks(rotation=90)\n",
    "    plt.title(title)\n",
    "    plt.xlabel('Columns')\n",
    "    plt.ylabel('Number of Missing Values')\n",
    "    plt.subplots_adjust(bottom=0.2)\n",
    "    plt.show()\n",
    "\n",
    "# Plot before interpolation\n",
    "plot_missing_values(df, \"Pre- Interpolation Census Data: Missing Value Analysis\", before_imputation=True)\n",
    "\n",
    "# Perform interpolation\n",
    "numeric_columns = df.select_dtypes(include=np.number).columns\n",
    "df[numeric_columns] = df[numeric_columns].ffill()\n",
    "df[numeric_columns] = df[numeric_columns].bfill()\n",
    "\n",
    "# Plot after imputation\n",
    "plot_missing_values(df, \"Post- Interpolation Census Data: Analysis of Null Values\", before_imputation=False)\n",
    "\n",
    "# Checking by heatmap\n",
    "sns.heatmap(df[cols_to_visualize].isnull(), yticklabels=False, cbar=False, cmap=\"viridis\")\n",
    "df.isnull().sum()\n"
   ]
  },
  {
   "cell_type": "markdown",
   "id": "76e2b673",
   "metadata": {},
   "source": [
    "## Working on Other CSV Files"
   ]
  },
  {
   "cell_type": "code",
   "execution_count": null,
   "id": "f4822bbc",
   "metadata": {},
   "outputs": [],
   "source": [
    "\n",
    "df1.head()\n",
    "df2.head()\n",
    "df3.head()\n",
    "df1.describe()\n",
    "df2.describe()\n",
    "df3.describe()\n",
    "df1.isnull().sum()\n"
   ]
  },
  {
   "cell_type": "markdown",
   "id": "6fee4c7a",
   "metadata": {},
   "source": [
    "## Handling Missing Values in Hospitals Data"
   ]
  },
  {
   "cell_type": "code",
   "execution_count": null,
   "id": "57baa9a8",
   "metadata": {},
   "outputs": [],
   "source": [
    "\n",
    "df1[['PHC', 'CHC', 'SDH', 'DH', 'Hospitals', 'HospitalBeds']] = df1[['PHC', 'CHC', 'SDH', 'DH', 'Hospitals', 'HospitalBeds']].apply(pd.to_numeric, errors='coerce')\n",
    "\n",
    "def heatmaps(df1, title, before_imputation=True):\n",
    "    sns.heatmap(df1.isnull(), yticklabels=False, cbar=False, cmap=\"viridis\")\n",
    "    plt.title(title)\n",
    "    plt.show()\n",
    "\n",
    "heatmaps(df1, \"Pre- Interpolation Hospitals Data: Missing Value Analysis\", before_imputation=True)\n",
    "numeric_columns = df1.select_dtypes(include=np.number).columns\n",
    "df1[numeric_columns] = df1[numeric_columns].ffill()\n",
    "df1[numeric_columns] = df1[numeric_columns].bfill()\n",
    "heatmaps(df1, \"Post- Interpolation Hospitals Data: Analysis of Null Values\", before_imputation=False)\n"
   ]
  },
  {
   "cell_type": "markdown",
   "id": "cd0693f5",
   "metadata": {},
   "source": [
    "## Handling Outliers in Census Data"
   ]
  },
  {
   "cell_type": "code",
   "execution_count": null,
   "id": "1f98b12a",
   "metadata": {},
   "outputs": [],
   "source": [
    "\n",
    "def outliers_zscore_quantile(df, columns, threshold=3):\n",
    "    for col in columns:\n",
    "        Q1 = df[col].quantile(0.25)\n",
    "        Q3 = df[col].quantile(0.75)\n",
    "        IQR = Q3 - Q1\n",
    "        lower_bound = Q1 - 1.5 * IQR\n",
    "        upper_bound = Q3 + 1.5 * IQR\n",
    "        df = df[(df[col] >= lower_bound) & (df[col] <= upper_bound)]\n",
    "        col_zscore = zscore(df[col].dropna())\n",
    "        valid_indices = df[col].dropna().index[abs(col_zscore) < threshold]\n",
    "        df = df.loc[valid_indices]\n",
    "    return df\n",
    "\n",
    "# Handling outlier related to households\n",
    "plt.figure(figsize=(16, 10))\n",
    "sns.boxplot(data=df[['Household_size_1_person_Households', 'Household_size_2_persons_Households', 'Household_size_3_persons_Households']])\n",
    "plt.title(\"Boxplot for Household Size Columns\")\n",
    "plt.show()\n"
   ]
  }
 ],
 "metadata": {},
 "nbformat": 4,
 "nbformat_minor": 5
}
